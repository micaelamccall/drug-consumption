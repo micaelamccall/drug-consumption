{
 "cells": [
  {
   "cell_type": "markdown",
   "metadata": {},
   "source": [
    "# Can personality traits and demographics predict drug use? Using supervised learning to classify drug consuption behavior\n",
    "\n",
    "### By Micaela McCall\n",
    "\n",
    "\n",
    "One of the first things that fascinated me about machine learning is the ability to predict the behavior of individuals. There are many uses for this capability, from predicting the liklihood of an individual to click on an add, to recommending follow-up mental health treatment based on risk of self-harm. \n",
    "\n",
    "\n",
    "## Project Goals\n",
    "\n",
    "In this project, I explored the ability of three supervised learning algorithms to predict whether an individual has used a specific drug. I explored and visualized parameter selection for each model, as well as how metrics can help us select the best model for a problem. \n",
    "\n",
    "### We'll get started by making sure we're searching for modules inside the project directory of the main repo\n"
   ]
  },
  {
   "cell_type": "code",
   "execution_count": 7,
   "metadata": {},
   "outputs": [
    {
     "name": "stdout",
     "output_type": "stream",
     "text": [
      "Verifying current working directory, which is: /Users/micamccall/Documents/python_projects/drug-consumption/drug_consumption\n",
      "Python is checking for modules in this directory\n"
     ]
    }
   ],
   "source": [
    "import os\n",
    "import sys\n",
    "def set_root_dir():\n",
    "    \"\"\"Sets the root directory of the project\"\"\"\n",
    "    print(\"Verifying current working directory, which is: \" + str(os.getcwd()))\n",
    "    \n",
    "    if os.getcwd()[-33:] != 'drug-consumption/drug_consumption':\n",
    "        print('Appending project directory to the current working directory...')\n",
    "        PROJ_ROOT_DIR = os.path.join(os.getcwd(), \"drug_consumption\")\n",
    "    else:\n",
    "        PROJ_ROOT_DIR = os.getcwd()\n",
    "\n",
    "    return PROJ_ROOT_DIR\n",
    "\n",
    "PROJ_ROOT_DIR=set_root_dir()\n",
    "\n",
    "def make_proj_module(project_directory=PROJ_ROOT_DIR):\n",
    "    \"\"\"Tells python to check in this directory for modules\"\"\"\n",
    "    if not PROJ_ROOT_DIR in sys.path:\n",
    "        print(\"Telling python to check for modules in the project directory...\")\n",
    "        sys.path.append(os.path.abspath(PROJ_ROOT_DIR))\n",
    "    else:\n",
    "        print(\"Python is checking for modules in this directory\")\n",
    "        \n",
    "        \n",
    "make_proj_module()"
   ]
  },
  {
   "cell_type": "markdown",
   "metadata": {},
   "source": [
    "## Dataset\n",
    "\n",
    "Human behavior is delightfully complex. This complexity is reflected in this [drug consumption dataset](http://archive.ics.uci.edu/ml/datasets/Drug+consumption+%28quantified%29), which contains demographic info as well as scores from personality inventories. \n",
    "\n",
    "This dataset is interesting to me because constructs from personality inventories can often seem abstract, so it's informative to explore how they relate to a concrete behavior. This dataset includes scores from the NEO personality inventory (neuroticism, extraversion, openness to experience, agreeableness, and conscientiousness), the BIS-11 (impulsivity), and ImpSS (sensation seeking). \n",
    "\n",
    "Last, it includes info on whether each individual had used a number of drugs. \n",
    "\n",
    "### The following code imports and saves the data:"
   ]
  },
  {
   "cell_type": "code",
   "execution_count": 8,
   "metadata": {},
   "outputs": [],
   "source": [
    "import os\n",
    "import sys\n",
    "import pandas as pd\n",
    "from urllib.request import urlretrieve\n",
    "\n",
    "DATA_PATH = os.path.join(PROJ_ROOT_DIR, \"data\")\n",
    "DATA_DOWNLOAD_ROOT = \"https://archive.ics.uci.edu/ml/machine-learning-databases/00373/\"\n",
    "DATA_DOWNLOAD_URL = DATA_DOWNLOAD_ROOT + \"drug_consumption.data\"\n",
    "\n",
    "\n",
    "def import_drug_data(data_url=DATA_DOWNLOAD_URL, data_path=DATA_PATH):\n",
    "    \"\"\"\n",
    "    A function to save the data to the data directory\n",
    "    \"\"\"\n",
    "    # Create a directory for data if it doesnt exist\n",
    "    if not os.path.isdir(data_path):  \n",
    "        os.makedirs(data_path)\n",
    "    \n",
    "    # Create a file for the data\n",
    "    data_file = os.path.join(data_path, \"drug_consumption.data\")\n",
    "\n",
    "    # Save the data \n",
    "    urlretrieve(data_url, data_file)\n",
    "\n",
    "\n",
    "def load_drug_data():\n",
    "    \"\"\"\n",
    "    A function to load the data into the environemnt\n",
    "    \"\"\"\n",
    "    # Column headers:\n",
    "    header_list=['ID','Age','Gender','Education','Country', 'Ethnicity', 'Nscore','Escore','Oscore','Ascore','Cscore','ImpulsiveScore','SS','Alcohol','Amphet','Amyl','Benzos','Caff','Cannabis','Choc','Coke','Crack','Ecstacy','Heroin','Ketamine','LegalH','LSD','Meth','Mushroom','Nicotine','Semeron','VSA']\n",
    "    \n",
    "    # Read in data \n",
    "    drug_df = pd.read_csv(os.path.join(DATA_PATH, \"drug_consumption.data\"), header=None, names=header_list)\n",
    "    \n",
    "    return drug_df\n",
    "\n",
    "\n",
    "import_drug_data()\n",
    "drug_df = load_drug_data()"
   ]
  },
  {
   "cell_type": "markdown",
   "metadata": {},
   "source": [
    "Let's take a look at the imported data "
   ]
  },
  {
   "cell_type": "code",
   "execution_count": 9,
   "metadata": {},
   "outputs": [
    {
     "data": {
      "text/html": [
       "<div>\n",
       "<style scoped>\n",
       "    .dataframe tbody tr th:only-of-type {\n",
       "        vertical-align: middle;\n",
       "    }\n",
       "\n",
       "    .dataframe tbody tr th {\n",
       "        vertical-align: top;\n",
       "    }\n",
       "\n",
       "    .dataframe thead th {\n",
       "        text-align: right;\n",
       "    }\n",
       "</style>\n",
       "<table border=\"1\" class=\"dataframe\">\n",
       "  <thead>\n",
       "    <tr style=\"text-align: right;\">\n",
       "      <th></th>\n",
       "      <th>ID</th>\n",
       "      <th>Age</th>\n",
       "      <th>Gender</th>\n",
       "      <th>Education</th>\n",
       "      <th>Country</th>\n",
       "      <th>Ethnicity</th>\n",
       "      <th>Nscore</th>\n",
       "      <th>Escore</th>\n",
       "      <th>Oscore</th>\n",
       "      <th>Ascore</th>\n",
       "      <th>...</th>\n",
       "      <th>Ecstacy</th>\n",
       "      <th>Heroin</th>\n",
       "      <th>Ketamine</th>\n",
       "      <th>LegalH</th>\n",
       "      <th>LSD</th>\n",
       "      <th>Meth</th>\n",
       "      <th>Mushroom</th>\n",
       "      <th>Nicotine</th>\n",
       "      <th>Semeron</th>\n",
       "      <th>VSA</th>\n",
       "    </tr>\n",
       "  </thead>\n",
       "  <tbody>\n",
       "    <tr>\n",
       "      <th>0</th>\n",
       "      <td>1</td>\n",
       "      <td>0.49788</td>\n",
       "      <td>0.48246</td>\n",
       "      <td>-0.05921</td>\n",
       "      <td>0.96082</td>\n",
       "      <td>0.12600</td>\n",
       "      <td>0.31287</td>\n",
       "      <td>-0.57545</td>\n",
       "      <td>-0.58331</td>\n",
       "      <td>-0.91699</td>\n",
       "      <td>...</td>\n",
       "      <td>CL0</td>\n",
       "      <td>CL0</td>\n",
       "      <td>CL0</td>\n",
       "      <td>CL0</td>\n",
       "      <td>CL0</td>\n",
       "      <td>CL0</td>\n",
       "      <td>CL0</td>\n",
       "      <td>CL2</td>\n",
       "      <td>CL0</td>\n",
       "      <td>CL0</td>\n",
       "    </tr>\n",
       "    <tr>\n",
       "      <th>1</th>\n",
       "      <td>2</td>\n",
       "      <td>-0.07854</td>\n",
       "      <td>-0.48246</td>\n",
       "      <td>1.98437</td>\n",
       "      <td>0.96082</td>\n",
       "      <td>-0.31685</td>\n",
       "      <td>-0.67825</td>\n",
       "      <td>1.93886</td>\n",
       "      <td>1.43533</td>\n",
       "      <td>0.76096</td>\n",
       "      <td>...</td>\n",
       "      <td>CL4</td>\n",
       "      <td>CL0</td>\n",
       "      <td>CL2</td>\n",
       "      <td>CL0</td>\n",
       "      <td>CL2</td>\n",
       "      <td>CL3</td>\n",
       "      <td>CL0</td>\n",
       "      <td>CL4</td>\n",
       "      <td>CL0</td>\n",
       "      <td>CL0</td>\n",
       "    </tr>\n",
       "    <tr>\n",
       "      <th>2</th>\n",
       "      <td>3</td>\n",
       "      <td>0.49788</td>\n",
       "      <td>-0.48246</td>\n",
       "      <td>-0.05921</td>\n",
       "      <td>0.96082</td>\n",
       "      <td>-0.31685</td>\n",
       "      <td>-0.46725</td>\n",
       "      <td>0.80523</td>\n",
       "      <td>-0.84732</td>\n",
       "      <td>-1.62090</td>\n",
       "      <td>...</td>\n",
       "      <td>CL0</td>\n",
       "      <td>CL0</td>\n",
       "      <td>CL0</td>\n",
       "      <td>CL0</td>\n",
       "      <td>CL0</td>\n",
       "      <td>CL0</td>\n",
       "      <td>CL1</td>\n",
       "      <td>CL0</td>\n",
       "      <td>CL0</td>\n",
       "      <td>CL0</td>\n",
       "    </tr>\n",
       "    <tr>\n",
       "      <th>3</th>\n",
       "      <td>4</td>\n",
       "      <td>-0.95197</td>\n",
       "      <td>0.48246</td>\n",
       "      <td>1.16365</td>\n",
       "      <td>0.96082</td>\n",
       "      <td>-0.31685</td>\n",
       "      <td>-0.14882</td>\n",
       "      <td>-0.80615</td>\n",
       "      <td>-0.01928</td>\n",
       "      <td>0.59042</td>\n",
       "      <td>...</td>\n",
       "      <td>CL0</td>\n",
       "      <td>CL0</td>\n",
       "      <td>CL2</td>\n",
       "      <td>CL0</td>\n",
       "      <td>CL0</td>\n",
       "      <td>CL0</td>\n",
       "      <td>CL0</td>\n",
       "      <td>CL2</td>\n",
       "      <td>CL0</td>\n",
       "      <td>CL0</td>\n",
       "    </tr>\n",
       "    <tr>\n",
       "      <th>4</th>\n",
       "      <td>5</td>\n",
       "      <td>0.49788</td>\n",
       "      <td>0.48246</td>\n",
       "      <td>1.98437</td>\n",
       "      <td>0.96082</td>\n",
       "      <td>-0.31685</td>\n",
       "      <td>0.73545</td>\n",
       "      <td>-1.63340</td>\n",
       "      <td>-0.45174</td>\n",
       "      <td>-0.30172</td>\n",
       "      <td>...</td>\n",
       "      <td>CL1</td>\n",
       "      <td>CL0</td>\n",
       "      <td>CL0</td>\n",
       "      <td>CL1</td>\n",
       "      <td>CL0</td>\n",
       "      <td>CL0</td>\n",
       "      <td>CL2</td>\n",
       "      <td>CL2</td>\n",
       "      <td>CL0</td>\n",
       "      <td>CL0</td>\n",
       "    </tr>\n",
       "  </tbody>\n",
       "</table>\n",
       "<p>5 rows × 32 columns</p>\n",
       "</div>"
      ],
      "text/plain": [
       "   ID      Age   Gender  Education  Country  Ethnicity   Nscore   Escore  \\\n",
       "0   1  0.49788  0.48246   -0.05921  0.96082    0.12600  0.31287 -0.57545   \n",
       "1   2 -0.07854 -0.48246    1.98437  0.96082   -0.31685 -0.67825  1.93886   \n",
       "2   3  0.49788 -0.48246   -0.05921  0.96082   -0.31685 -0.46725  0.80523   \n",
       "3   4 -0.95197  0.48246    1.16365  0.96082   -0.31685 -0.14882 -0.80615   \n",
       "4   5  0.49788  0.48246    1.98437  0.96082   -0.31685  0.73545 -1.63340   \n",
       "\n",
       "    Oscore   Ascore ...   Ecstacy  Heroin  Ketamine LegalH  LSD Meth Mushroom  \\\n",
       "0 -0.58331 -0.91699 ...       CL0     CL0       CL0    CL0  CL0  CL0      CL0   \n",
       "1  1.43533  0.76096 ...       CL4     CL0       CL2    CL0  CL2  CL3      CL0   \n",
       "2 -0.84732 -1.62090 ...       CL0     CL0       CL0    CL0  CL0  CL0      CL1   \n",
       "3 -0.01928  0.59042 ...       CL0     CL0       CL2    CL0  CL0  CL0      CL0   \n",
       "4 -0.45174 -0.30172 ...       CL1     CL0       CL0    CL1  CL0  CL0      CL2   \n",
       "\n",
       "  Nicotine Semeron  VSA  \n",
       "0      CL2     CL0  CL0  \n",
       "1      CL4     CL0  CL0  \n",
       "2      CL0     CL0  CL0  \n",
       "3      CL2     CL0  CL0  \n",
       "4      CL2     CL0  CL0  \n",
       "\n",
       "[5 rows x 32 columns]"
      ]
     },
     "execution_count": 9,
     "metadata": {},
     "output_type": "execute_result"
    }
   ],
   "source": [
    "drug_df.head()"
   ]
  },
  {
   "cell_type": "markdown",
   "metadata": {},
   "source": [
    "We note:\n",
    "\n",
    "1. we want to change the drug columns to be a binary (0 and 1).\n",
    "2. Gender, Ethnicity, Education, and Country are encoded as real numbers. However, there is no ordering betwen the levels of these features, so they should be treated as discrete. \n",
    "3. The personality scores are scaled to a mean of 0 and standard deviation of 1 already, so these features don't need to be processed. \n",
    "\n",
    "### Below are a couple of functions to deal with (1) and (2)"
   ]
  },
  {
   "cell_type": "code",
   "execution_count": 10,
   "metadata": {},
   "outputs": [],
   "source": [
    "import pandas as pd\n",
    "def binarize_categorical_variable(df, column, yescat):\n",
    "    \"\"\" \n",
    "    Fuction to turns a categorical variable in a DataFrame into a 0 or 1 response\n",
    "\n",
    "    Arguments: \n",
    "    df = pandas DataFrame, \n",
    "    column = name of variable column as string\n",
    "    yes = quoted *and bracketed* list of category names that you wish to turn to 1\n",
    "\n",
    "    Returns: the original pandas df with new binarized variable\"\"\"\n",
    "\n",
    "    # Change column to category dtype so that we can access it with .categories method\n",
    "    df[column]=df[column].astype('category')\n",
    "    \n",
    "    # Create list of categories in column\n",
    "    category_list = [] \n",
    "    \n",
    "    for cat in df[column].cat.categories:\n",
    "        category_list.append(cat)\n",
    "\n",
    "    # Create dictionary with 1s for yes categories and 0 for no categories\n",
    "    repl_dict = {}\n",
    "\n",
    "    for cat in category_list:\n",
    "        for yes in yescat:\n",
    "            if cat == yes:\n",
    "                repl_dict[cat] = 1   \n",
    "        if repl_dict.get(cat) == None:\n",
    "            repl_dict[cat] = 0\n",
    "\n",
    "    # Replace original column in DataFrame\n",
    "    df[column] = df[column].replace(repl_dict)\n",
    "\n",
    "    return df\n",
    "\n",
    "def new_categories(df, column, newcat):\n",
    "    \"\"\" \n",
    "    Function to replace categories in a variables with new category names\n",
    "    \n",
    "    Arguments:\n",
    "    df =  a pandas DataFrame\n",
    "    column = name of variable column as string\n",
    "    newcat = a list of strings that name the new category names\n",
    "    \n",
    "    Output: a pandas DataFrame with new column names\"\"\"\n",
    "\n",
    "    # Change column to category dtype so that we can access it with .categories method\n",
    "    df[column]=df[column].astype('category')\n",
    "\n",
    "    # Create list of categories in this variable\n",
    "    category_list = []\n",
    "\n",
    "    for cat in df[column].cat.categories:\n",
    "        category_list.append(cat)\n",
    "\n",
    "    # Create a dictionary of new names for each old category name\n",
    "    repl_dict = {}\n",
    "\n",
    "    for i, cat in enumerate(category_list):\n",
    "        repl_dict[cat] = newcat[i]\n",
    "\n",
    "    df[column] = df[column].replace(repl_dict)\n",
    "\n",
    "    return df"
   ]
  },
  {
   "cell_type": "markdown",
   "metadata": {},
   "source": [
    "## Next, we apply the functions to the dataframe and create a cleaned dataset"
   ]
  },
  {
   "cell_type": "code",
   "execution_count": 11,
   "metadata": {},
   "outputs": [
    {
     "name": "stderr",
     "output_type": "stream",
     "text": [
      "/Users/micamccall/anaconda3/envs/py2019/lib/python3.7/site-packages/ipykernel_launcher.py:49: SettingWithCopyWarning: \n",
      "A value is trying to be set on a copy of a slice from a DataFrame.\n",
      "Try using .loc[row_indexer,col_indexer] = value instead\n",
      "\n",
      "See the caveats in the documentation: http://pandas.pydata.org/pandas-docs/stable/indexing.html#indexing-view-versus-copy\n",
      "/Users/micamccall/anaconda3/envs/py2019/lib/python3.7/site-packages/ipykernel_launcher.py:63: SettingWithCopyWarning: \n",
      "A value is trying to be set on a copy of a slice from a DataFrame.\n",
      "Try using .loc[row_indexer,col_indexer] = value instead\n",
      "\n",
      "See the caveats in the documentation: http://pandas.pydata.org/pandas-docs/stable/indexing.html#indexing-view-versus-copy\n"
     ]
    }
   ],
   "source": [
    "def cleanup_drug_df(df):\n",
    "    \"\"\" A function to clean up the drug dataframe \n",
    "    \n",
    "    Argument: Pandas DataFame\n",
    "    \n",
    "    Output: Cleaned up data as pandas DataFrame\"\"\"\n",
    "\n",
    "    # Binarize the drug columns\n",
    "\n",
    "    drug_df_clean = df\n",
    "\n",
    "    for column in drug_df.columns[13:]:\n",
    "        drug_df_clean = binarize_categorical_variable(drug_df_clean, column, yescat=['CL1','Cl2','CL3','CL4','CL5','CL6'])\n",
    "\n",
    "\n",
    "    # Responses from individuals who said they had done an imaginary drug probably arent repliable,\n",
    "    # so they are removed\n",
    "\n",
    "    drug_df_clean = drug_df_clean[drug_df_clean.Semeron==0]\n",
    "\n",
    "\n",
    "\n",
    "    new_categories_list = [\n",
    "        ['18-24','25-34','35-44','45-54','55-64','65-100'],\n",
    "        ['Female','Male'],\n",
    "        ['Left school before age 16', 'Left school at age 16', 'Left school at age 17', 'Left school at age 18', 'Some college or university','Professional diploma/certificate', 'University degree', 'Masters degree', 'Doctorate degree'],\n",
    "        ['USA','New Zealand','Other', 'Australia', 'Republic of Ireland','Canada', 'UK'],\n",
    "        ['Black', 'Asian','White','Mixed Black/White','Other','Mixed White/Asian','Mixed Black/Asian']]\n",
    "\n",
    "    columns_to_replace = ['Age', 'Gender', 'Education', 'Country', 'Ethnicity']\n",
    "\n",
    "    for i, column in enumerate(columns_to_replace):\n",
    "        new_categories(drug_df_clean, column, new_categories_list[i])\n",
    "    \n",
    "    return drug_df_clean\n",
    "\n",
    "\n",
    "# Cleanup drug DataFrame\n",
    "drug_df_clean=cleanup_drug_df(drug_df)"
   ]
  },
  {
   "cell_type": "markdown",
   "metadata": {},
   "source": [
    "Next, we need to pick a drug to be the target variable for the classification model. I want to pick one that isn't too unevenly distributed, so here we check the response counts for each drug:"
   ]
  },
  {
   "cell_type": "code",
   "execution_count": 12,
   "metadata": {},
   "outputs": [
    {
     "name": "stdout",
     "output_type": "stream",
     "text": [
      "1    1779\n",
      "0     101\n",
      "Name: Alcohol, dtype: int64\n",
      "0    1217\n",
      "1     663\n",
      "Name: Amphet, dtype: int64\n",
      "0    1538\n",
      "1     342\n",
      "Name: Amyl, dtype: int64\n",
      "0    1231\n",
      "1     649\n",
      "Name: Benzos, dtype: int64\n",
      "1    1829\n",
      "0      51\n",
      "Name: Caff, dtype: int64\n",
      "1    1201\n",
      "0     679\n",
      "Name: Cannabis, dtype: int64\n",
      "1    1838\n",
      "0      42\n",
      "Name: Choc, dtype: int64\n",
      "0    1306\n",
      "1     574\n",
      "Name: Coke, dtype: int64\n",
      "0    1734\n",
      "1     146\n",
      "Name: Crack, dtype: int64\n",
      "0    1255\n",
      "1     625\n",
      "Name: Ecstacy, dtype: int64\n",
      "0    1694\n",
      "1     186\n",
      "Name: Heroin, dtype: int64\n",
      "0    1631\n",
      "1     249\n",
      "Name: Ketamine, dtype: int64\n",
      "0    1290\n",
      "1     590\n",
      "Name: LegalH, dtype: int64\n",
      "0    1245\n",
      "1     635\n",
      "Name: LSD, dtype: int64\n",
      "0    1522\n",
      "1     358\n",
      "Name: Meth, dtype: int64\n",
      "0    1242\n",
      "1     638\n",
      "Name: Mushroom, dtype: int64\n",
      "1    1249\n",
      "0     631\n",
      "Name: Nicotine, dtype: int64\n",
      "0    1880\n",
      "Name: Semeron, dtype: int64\n",
      "0    1588\n",
      "1     292\n",
      "Name: VSA, dtype: int64\n"
     ]
    }
   ],
   "source": [
    "for column in drug_df_clean.columns[13:]:\n",
    "    print(drug_df_clean[column].value_counts())"
   ]
  },
  {
   "cell_type": "markdown",
   "metadata": {},
   "source": [
    "## From here I decided to move forward with predicting Cannabis use\n",
    "Below, we create a new dataframe for machine learning with Cannabis included as the only drug. \n",
    "\n",
    "Also, we create two new columns 'Upper_Age' and 'Lower_Age', which replace the Age column. Right now, the age column is an ordinal feature; therefore, simple one-hot encoding loses some information. We can maintain more information about the feature by creating a new feature for the lower bound of the age and the upper bound the age. This strategy also maintains more information about the age than changing the feature to a simple mean."
   ]
  },
  {
   "cell_type": "code",
   "execution_count": 13,
   "metadata": {},
   "outputs": [],
   "source": [
    "def make_single_drug_df(df_full, drug):\n",
    "\n",
    "    \"\"\"\n",
    "    A function to select a single drug as the target variable, process age variable, and isolate features dataset\n",
    "\n",
    "    Arguments: \n",
    "    df_full = the full drug pandas Dataframe\n",
    "    drug = the name of the drug column of interest as a string\n",
    "\n",
    "    Returns:\n",
    "    a tuple that is the single drug pandas dataframe and the features dataframe    \n",
    "    \"\"\"\n",
    "    cols = [\n",
    "        'ID','Age', 'Gender', 'Education', 'Country', \n",
    "        'Ethnicity', 'Nscore', 'Escore', 'Oscore', \n",
    "        'Ascore', 'Cscore', 'ImpulsiveScore','SS', drug]\n",
    "\n",
    "    df = df_full.loc[:,cols]\n",
    "\n",
    "    # create a new feature for the lower bound of the age and the upper bound the age.\n",
    "    df['Lower_Age'], df['Upper_Age'] = zip(*df['Age'].map(lambda x: x.split('-')))\n",
    "\n",
    "    # Convert lower and upper age to floats\n",
    "    df.Lower_Age=df.Lower_Age.astype('float')\n",
    "    df.Upper_Age=df.Upper_Age.astype('float')\n",
    "\n",
    "    # Make dataframe of features\n",
    "    features=df.drop(['ID','Age', drug], axis = 1)\n",
    "\n",
    "    returns = (df, features)\n",
    "\n",
    "    return returns\n",
    "\n",
    "drug = 'Cannabis'\n",
    "df, features = make_single_drug_df(df_full=drug_df_clean, drug= drug)   "
   ]
  },
  {
   "cell_type": "markdown",
   "metadata": {},
   "source": [
    "## Now, let's explore this dataset"
   ]
  },
  {
   "cell_type": "code",
   "execution_count": 14,
   "metadata": {
    "scrolled": false
   },
   "outputs": [
    {
     "name": "stdout",
     "output_type": "stream",
     "text": [
      "Shape of Cannabis data: (1880, 16)\n",
      "Counts per response:\n",
      " {1: 1201, 0: 679} \n",
      "Proportion each response:\n",
      " {1: 0.6388297872340426, 0: 0.36117021276595745}\n",
      "Counts per response:\n",
      " {'18-24': 638, '25-34': 481, '35-44': 356, '45-54': 294, '55-64': 93, '65-100': 18}\n",
      "Counts per response:\n",
      " {'Male': 940, 'Female': 940}\n",
      "Counts per response:\n",
      " {'Some college or university': 503, 'University degree': 480, 'Masters degree': 283, 'Professional diploma/certificate': 270, 'Left school at age 16': 99, 'Left school at age 18': 99, 'Doctorate degree': 89, 'Left school at age 17': 29, 'Left school before age 16': 28}\n",
      "Counts per response:\n",
      " {'UK': 1044, 'USA': 553, 'Other': 118, 'Canada': 87, 'Australia': 53, 'Republic of Ireland': 20, 'New Zealand': 5}\n",
      "Counts per response:\n",
      " {'Some college or university': 503, 'University degree': 480, 'Masters degree': 283, 'Professional diploma/certificate': 270, 'Left school at age 16': 99, 'Left school at age 18': 99, 'Doctorate degree': 89, 'Left school at age 17': 29, 'Left school before age 16': 28}\n",
      "Counts per response:\n",
      " {'White': 1718, 'Other': 62, 'Black': 33, 'Asian': 25, 'Mixed White/Asian': 20, 'Mixed Black/White': 19, 'Mixed Black/Asian': 3}\n"
     ]
    },
    {
     "data": {
      "text/plain": [
       "<seaborn.axisgrid.PairGrid at 0x1a1fa59eb8>"
      ]
     },
     "execution_count": 14,
     "metadata": {},
     "output_type": "execute_result"
    }
   ],
   "source": [
    "import matplotlib.pyplot as plt\n",
    "import seaborn as sns\n",
    "\n",
    "print(\"Shape of\", drug, \"data:\", df.shape)\n",
    "\n",
    "print(\"Counts per response:\\n\", {\n",
    "    n: v for n, v in zip(df[drug].value_counts().index, df[drug].value_counts())\n",
    "}, \"\\nProportion each response:\\n\", {\n",
    "    n: v for n, v in zip(df[drug].value_counts().index, df[drug].value_counts() / len(df))\n",
    "})\n",
    "\n",
    "# Look at the distribution of the numerical variables\n",
    "df.drop(columns=['ID', drug]).hist(bins=50, figsize=(20,15))\n",
    "# They are largely normally distributed\n",
    "\n",
    "\n",
    "# Value counts for the categorical variables\n",
    "col_list = ['Age', 'Gender', 'Education', 'Country', 'Education', 'Ethnicity']\n",
    "for feature in col_list:\n",
    "    print(\"Counts per response:\\n\", {\n",
    "            n: v for n, v in zip(df.loc[:,feature].value_counts().index, df.loc[:, feature].value_counts())\n",
    "        })\n",
    "\n",
    "# Pairplot of numerical features\n",
    "sns.pairplot(df, height = 4, vars=[\n",
    "    'Nscore', 'Escore', 'Oscore', \n",
    "    'Ascore', 'Cscore'], )"
   ]
  },
  {
   "cell_type": "markdown",
   "metadata": {},
   "source": [
    "- Because 64% of responses are in class 1, there would be a baseline accuracy of 0.64 if we predicted all responses to be class 1\n",
    "\n",
    "- These numerical features are normally distributed, which is good. Some appear to be correlated while others aren't.\n",
    "\n",
    "# Now, we're ready to split the data into train and test sets for machine learning"
   ]
  },
  {
   "cell_type": "code",
   "execution_count": 15,
   "metadata": {},
   "outputs": [],
   "source": [
    "from sklearn.model_selection import train_test_split\n",
    "X_train, X_test, y_train, y_test = train_test_split(features, df[drug], random_state= 42)"
   ]
  },
  {
   "cell_type": "markdown",
   "metadata": {},
   "source": [
    "Now, for any model we are fitting, there is preprocessing to be done and a number of hyperparameters that need to be adjusted. \n",
    "\n",
    "For preprocessing, we need to one-hot encode the Gender, Ethnicity, Education, and Country features. For some models, we would also need to scale the numerical features Upper_Age and Lower_Age. \n",
    "\n",
    "Both preprocessing and hyperparameter adjustment can be included in a GridSearch object from sklearn.\n",
    "\n",
    "By what metric should we select hyperparameters? Because this this data is slightly imbalanced, ROC-AUC may be a better evaluation metric than accuracy (as noted, baseline accuracy would be 0.64).  \n",
    "\n",
    "Area under the ROC curve shows the probability that a value of the positive class will have a higher score than one of the negative class according to the decision function of the model. \n",
    "\n",
    "The below function is a wrapper for a GridSearchCV object that searches for the best parameters for a classifier, reports a number of metrics for the classifier, and refits on a metric of choice. It also produces a heatmap for cross validation results so we can visualize if we are searching the best hyperparameter space."
   ]
  },
  {
   "cell_type": "code",
   "execution_count": 16,
   "metadata": {},
   "outputs": [],
   "source": [
    "from sklearn.model_selection import GridSearchCV\n",
    "from sklearn.metrics import make_scorer, average_precision_score,precision_score, roc_auc_score, accuracy_score\n",
    "\n",
    "\n",
    "# Wrapper to fit GridSearchCV optimized with different scores:\n",
    "def grid_search_wrapper(X_train, y_train, pipe, param_grid, refit_score):\n",
    "    \"\"\"\n",
    "    Fits a GridSearchCV classifier that optimizes with refit_score and reports ROC AUC, precision score, and accuracy\n",
    "    \n",
    "    Arguments: \n",
    "    X_train = training features\n",
    "    y_train training target\n",
    "    pipe = a pipline object that include preprocessing steps and chosen classifier\n",
    "    param_grid = a dict or list of dicts with keys as strings of the \n",
    "    parameter names and values are a list of possible values for the parameter\n",
    "    refit_score = string naming the score to refit by\n",
    "\n",
    "    Returns: tuple of GridSearchCV (for using for predictions) and results pandas DataFrame for evaluating the model\n",
    "    \"\"\"\n",
    "    # Scores to report in the results\n",
    "    scorers = {\n",
    "        'roc_auc' : make_scorer(roc_auc_score),\n",
    "        'precision_score' : make_scorer(precision_score),\n",
    "        'accuracy' : make_scorer(accuracy_score)\n",
    "    }\n",
    "\n",
    "    # Create a GridSearchCV instance optimized for refit_score \n",
    "    # Usually good to set n_estimators (the number of trees to build) to as high as is feasible\n",
    "    grid_search = GridSearchCV(pipe, param_grid, scoring=scorers, refit=refit_score, cv=5, return_train_score=True, n_jobs=-1)\n",
    "\n",
    "    # Fit on training data\n",
    "    grid_search.fit(X_train,y_train)\n",
    "\n",
    "    # Store results of each cross val of the best kernel\n",
    "    results = pd.DataFrame(grid_search.cv_results_)\n",
    "\n",
    "    # Make a list of the parameters to extract from results\n",
    "    subset_results=['mean_test_precision_score', 'mean_test_roc_auc', 'mean_test_accuracy']\n",
    "    \n",
    "    # Initialize list of params and list of parameter dimensions for graphing\n",
    "    params = []\n",
    "    dim = []\n",
    "\n",
    "    # SVC has a list parameter grid (two kernels)\n",
    "    # extract SVC best kernel if the classifier used is SVC\n",
    "    if 'svc__kernel' in grid_search.best_params_:\n",
    "        best_kernel = grid_search.best_params_['svc__kernel']\n",
    "    \n",
    "    # add params to subset_results. If the classifier is SVC, only add the params for the best kernel\n",
    "    if type(param_grid) == list:\n",
    "        for grid in param_grid:\n",
    "            if grid['svc__kernel']==[best_kernel]:\n",
    "                for param in grid.keys():\n",
    "                    dim.append(len(grid[param]))\n",
    "\n",
    "                    # Save param for graphing later\n",
    "                    if param not in params:\n",
    "                        params.append(param)\n",
    "                dim = dim[1:]\n",
    "            for param in grid.keys():\n",
    "                # Save param for graphing later\n",
    "                if param not in params:\n",
    "                    params.append(param)\n",
    "            params=params[1:]\n",
    "            # Add the param to the list of column names in results\n",
    "            param_str='param_'+str(param)\n",
    "            if param_str not in subset_results:\n",
    "                subset_results.append(param_str)\n",
    "        # Selected results\n",
    "        results= results[results.param_svc__kernel==best_kernel].loc[:,subset_results].round(3).reindex()  \n",
    "    else:\n",
    "        for param in param_grid.keys():\n",
    "            # Save param for graphing later\n",
    "            params.append(param)\n",
    "            # Save dimensions of param for graphing\n",
    "            dim.append(len(param_grid[param]))\n",
    "            param_str='param_'+str(param)\n",
    "            if param_str not in subset_results:\n",
    "                    subset_results.append(param_str)\n",
    "        # Selected results\n",
    "        results = results.loc[:,subset_results].round(3).reindex()  \n",
    "\n",
    "    #Print best params for the chosen score and the best cross-val score\n",
    "    print(\n",
    "        \"Parmaeters when refit for {}\".format(refit_score), \n",
    "        \"\\n {}\".format(grid_search.best_params_), \n",
    "        \"\\nBest cross-val roc_auc score: {}\".format(np.max(results.mean_test_roc_auc)),\n",
    "        \"\\nBest cross-val accuracy score: {:.2f}\".format(np.max(results.mean_test_accuracy)))\n",
    "    \n",
    "    # Store the name of the score to plot on a heat map\n",
    "    plot_score = 'mean_test_' + str(refit_score)\n",
    "\n",
    "    # Store average cross-val score of each combo of parameters in an array the size of the parameter grid space\n",
    "    scores = np.array(results[plot_score]).reshape(dim[0],dim[1])\n",
    "\n",
    "    # Plot the score of each combo of parameters on a heatmap\n",
    "    heatmap=sns.heatmap(scores, annot=True)\n",
    "    plt.title('Cross-val test scores for ' + str(refit_score))\n",
    "    plt.xlabel(params[1])\n",
    "    plt.ylabel(params[0])\n",
    "    plt.xticks(np.arange(dim[1]), results[subset_results[-1]].unique())\n",
    "    plt.yticks(np.arange(dim[0]), results[subset_results[-2]].unique())\n",
    "    plt.show()\n",
    "\n",
    "    # Return both the grid search object and the results DataFrame\n",
    "    returns = (grid_search, results)\n",
    "\n",
    "    return returns"
   ]
  },
  {
   "cell_type": "markdown",
   "metadata": {},
   "source": [
    "# Now, we can apply this function to several supervised learning algorithms in order to visualize the parameter space and modify searches. \n",
    "\n",
    "### We'll start with Logistic regression"
   ]
  },
  {
   "cell_type": "code",
   "execution_count": 17,
   "metadata": {},
   "outputs": [
    {
     "name": "stdout",
     "output_type": "stream",
     "text": [
      "parameter grid:\n",
      "{'logreg__C': [0.001, 0.01, 1, 100], 'logreg__penalty': ['l1', 'l2']}\n",
      "Parmaeters when refit for roc_auc \n",
      " {'logreg__C': 0.01, 'logreg__penalty': 'l2'} \n",
      "Best cross-val roc_auc score: 0.733 \n",
      "Best cross-val accuracy score: 0.77\n"
     ]
    },
    {
     "name": "stderr",
     "output_type": "stream",
     "text": [
      "/Users/micamccall/anaconda3/envs/py2019/lib/python3.7/site-packages/sklearn/linear_model/logistic.py:432: FutureWarning: Default solver will be changed to 'lbfgs' in 0.22. Specify a solver to silence this warning.\n",
      "  FutureWarning)\n"
     ]
    },
    {
     "data": {
      "image/png": "[encoded data removed]",
      "text/plain": [
       "<Figure size 432x288 with 2 Axes>"
      ]
     },
     "metadata": {
      "needs_background": "light"
     },
     "output_type": "display_data"
    }
   ],
   "source": [
    "from sklearn.linear_model import LogisticRegression\n",
    "from sklearn.preprocessing import OneHotEncoder, StandardScaler\n",
    "from sklearn.compose import ColumnTransformer\n",
    "from sklearn.pipeline import Pipeline\n",
    "\n",
    "import numpy as np\n",
    "\n",
    "# First, we make a column transformer to scale the numerical features, and one-hot encode the categorical ones\n",
    "ct = ColumnTransformer([\n",
    "    (\"num\", StandardScaler(), ['Upper_Age', 'Lower_Age']), \n",
    "     (\"cat\", OneHotEncoder(handle_unknown = 'ignore', sparse=False), ['Gender', 'Education', 'Country', 'Ethnicity'])], \n",
    "     remainder='passthrough')\n",
    "\n",
    "# Next, make a pipeline with the column transformer and the logistic regression instance\n",
    "pipe = Pipeline([\n",
    "    (\"preparation\", ct),\n",
    "    (\"logreg\", LogisticRegression())\n",
    "])\n",
    "\n",
    "# Now, we make a parameter grid for the grid search to search over\n",
    "# l1 and l2 are types of regularization; they restrict the model and prevent it from overfitting by restricting the coefficients to be near zero. \n",
    "# l1 also forces some to be exactly 0 so that they can be ignorned entirely\n",
    "param_grid = {\n",
    "    'logreg__C': [0.001, 0.01, 1, 100],\n",
    "    'logreg__penalty': [\"l1\", \"l2\"]\n",
    "}\n",
    "\n",
    "print(\"parameter grid:\\n{}\".format(param_grid))\n",
    "\n",
    "# Run the grid search, refitting with the ROC AUC metric\n",
    "grid_search, logreg_results = grid_search_wrapper(X_train, y_train, pipe=pipe, param_grid=param_grid, refit_score='roc_auc')\n",
    "\n",
    "# Assign the full pipeline for the estimator selected by the grid search to it's own object\n",
    "logreg_pipe = grid_search.best_estimator_  "
   ]
  },
  {
   "cell_type": "markdown",
   "metadata": {},
   "source": [
    "An ROC-AUC score of 0.73 is ok, but not awesome. It's definitely worth seeing if another model would produce better results.\n",
    "\n",
    "### Next, we'll look at SVC (support vector classifier)"
   ]
  },
  {
   "cell_type": "code",
   "execution_count": 18,
   "metadata": {},
   "outputs": [
    {
     "name": "stdout",
     "output_type": "stream",
     "text": [
      "Parmaeters when refit for roc_auc \n",
      " {'svc__C': 1, 'svc__gamma': 0.01, 'svc__kernel': 'rbf'} \n",
      "Best cross-val roc_auc score: 0.753 \n",
      "Best cross-val accuracy score: 0.77\n"
     ]
    },
    {
     "data": {
      "image/png": "[encoded data removed]",
      "text/plain": [
       "<Figure size 432x288 with 2 Axes>"
      ]
     },
     "metadata": {
      "needs_background": "light"
     },
     "output_type": "display_data"
    }
   ],
   "source": [
    "from sklearn.svm import SVC\n",
    "\n",
    "# We can use the same ColumnTransformer instance as was used for Logistic regression\n",
    "# We add the SVC to the pipeline\n",
    "\n",
    "pipe = Pipeline([\n",
    "    (\"preparation\", ct),\n",
    "    (\"svc\", SVC())\n",
    "])\n",
    "\n",
    "# This parameter grid is a list of dicts instead of a dict\n",
    "param_grid = [\n",
    "    {'svc__kernel': ['rbf'], 'svc__C': [0.001, 0.01, 0.1, 1, 10, 100], 'svc__gamma': [0.001, 0.01, 0.1, 1, 10, 100]}, \n",
    "    {'svc__kernel': ['linear'], 'svc__C': [0.001, 0.01, 0.1, 1, 10, 100]}]\n",
    "\n",
    "# Run the grid search\n",
    "grid_search, svc_results = grid_search_wrapper(X_train, y_train, pipe, param_grid, refit_score='roc_auc')\n"
   ]
  },
  {
   "cell_type": "markdown",
   "metadata": {},
   "source": [
    "Because the largest scores are near the endge of the heat map, we'll adjust the parameter grid to see if better scores are beyong the search space of the last grid search"
   ]
  },
  {
   "cell_type": "code",
   "execution_count": 19,
   "metadata": {},
   "outputs": [
    {
     "name": "stdout",
     "output_type": "stream",
     "text": [
      "Parmaeters when refit for roc_auc \n",
      " {'svc__C': 1, 'svc__gamma': 0.01, 'svc__kernel': 'rbf'} \n",
      "Best cross-val roc_auc score: 0.753 \n",
      "Best cross-val accuracy score: 0.77\n"
     ]
    },
    {
     "data": {
      "image/png": "[encoded data removed]",
      "text/plain": [
       "<Figure size 432x288 with 2 Axes>"
      ]
     },
     "metadata": {
      "needs_background": "light"
     },
     "output_type": "display_data"
    }
   ],
   "source": [
    "param_grid = [\n",
    "    {'svc__kernel': ['rbf'], 'svc__C': [0.1, 1, 10, 100, 1000, 10000], 'svc__gamma': [0.00001, 0.0001, 0.001, 0.01, 0.1, 1]}, \n",
    "    {'svc__kernel': ['linear'], 'svc__C': [0.001, 0.01, 0.1, 1, 10, 100]}]\n",
    "\n",
    "grid_search, svc_results = grid_search_wrapper(X_train, y_train, pipe, param_grid, refit_score='roc_auc')\n",
    "\n",
    "svc_pipe = grid_search.best_estimator_"
   ]
  },
  {
   "cell_type": "markdown",
   "metadata": {},
   "source": [
    "This seems like a better parameter grid space because the plot is filled up with evenly with the higher cross-val scores.\n",
    "\n",
    "But, the best parameters are the same as the ones we found in the first grid search. \n",
    "\n",
    "The best ROC AUC from cross validation is slightly higher! But still not awesome.\n",
    "\n",
    "### Last, we'll try a Random Forest classifier\n",
    "RF is the average of a number of decision tree classifiers with some randomness injected into the tree-building process."
   ]
  },
  {
   "cell_type": "code",
   "execution_count": 20,
   "metadata": {},
   "outputs": [
    {
     "name": "stdout",
     "output_type": "stream",
     "text": [
      "Parmaeters when refit for roc_auc \n",
      " {'rf__max_depth': 35, 'rf__max_features': 7} \n",
      "Best cross-val roc_auc score: 0.742 \n",
      "Best cross-val accuracy score: 0.77\n"
     ]
    },
    {
     "data": {
      "image/png": "[encoded data removed]",
      "text/plain": [
       "<Figure size 432x288 with 2 Axes>"
      ]
     },
     "metadata": {
      "needs_background": "light"
     },
     "output_type": "display_data"
    }
   ],
   "source": [
    "from sklearn.ensemble import RandomForestClassifier\n",
    "\n",
    "# For RF, we don't need to scale the numerical features, so we'll use a different column transformer\n",
    "ct = ColumnTransformer([\n",
    "     (\"cat\", OneHotEncoder(handle_unknown = 'ignore', sparse=False), ['Gender', 'Education', 'Country', 'Ethnicity'])], \n",
    "     remainder='passthrough')\n",
    "\n",
    "pipe = Pipeline([\n",
    "    (\"preparation\", ct),\n",
    "    (\"rf\", RandomForestClassifier(n_estimators=200, random_state=2))\n",
    "])\n",
    "\n",
    "# The parameters that will be searched accross are max_depth, and max_features\n",
    "# max_depth limits the number of decisions that can happen in a tree; set lower to avoid overfitting\n",
    "# max_features is the number of features randomly selected to fit each tree; set lower to include more randomness and avoid overfitting\n",
    "#   usually set to sqrt(n_features)\n",
    "\n",
    "param_grid = {\n",
    "    'rf__max_depth': [5, 15, 25, 35, 45],\n",
    "    'rf__max_features': [4, 7, 10]\n",
    "}\n",
    "\n",
    "grid_search, rf_results = grid_search_wrapper(X_train, y_train, pipe=pipe, param_grid=param_grid, refit_score='roc_auc')\n",
    "rf_pipe = grid_search.best_estimator_"
   ]
  },
  {
   "cell_type": "markdown",
   "metadata": {},
   "source": [
    "The best ROC AUC score for cross validation isn't better than SVC. Therefore, it looks like SVC is the best model. \n",
    "## Another way to determine the best model is to do a grid search between the models and parameters together. This is demonstrated below:"
   ]
  },
  {
   "cell_type": "code",
   "execution_count": 21,
   "metadata": {},
   "outputs": [
    {
     "name": "stdout",
     "output_type": "stream",
     "text": [
      "Best classifier and params: \n",
      "{'classifier': SVC(C=1, cache_size=200, class_weight=None, coef0=0.0,\n",
      "    decision_function_shape='ovr', degree=3, gamma=0.01, kernel='rbf',\n",
      "    max_iter=-1, probability=False, random_state=None, shrinking=True,\n",
      "    tol=0.001, verbose=False), 'classifier__C': 1, 'classifier__gamma': 0.01}\n",
      "\n",
      "Best cross-val score: 0.75\n"
     ]
    }
   ],
   "source": [
    "ct = ColumnTransformer([\n",
    "    (\"num\", StandardScaler(), ['Upper_Age', 'Lower_Age']), \n",
    "     (\"cat\", OneHotEncoder(handle_unknown = 'ignore', sparse=False), ['Gender', 'Education', 'Country', 'Ethnicity'])], \n",
    "     remainder='passthrough')\n",
    "\n",
    "# Initialize pipe with column transformer and Log Reg\n",
    "pipe = Pipeline([\n",
    "    (\"preparation\", ct),\n",
    "    (\"classifier\", LogisticRegression())\n",
    "])\n",
    "\n",
    "# Param grid with all possibilities for all models\n",
    "param_grid = [\n",
    "    {'classifier': [LogisticRegression(solver='liblinear')], \n",
    "    'classifier__C': [0.001, 0.01, 1, 100],\n",
    "    'classifier__penalty': [\"l1\", \"l2\"]},\n",
    "    {'classifier': [LogisticRegression(solver='lbfgs', penalty=\"l2\", max_iter=500)], \n",
    "    'classifier__C': [0.001, 0.01, 1, 100]},\n",
    "    {'classifier': [RandomForestClassifier(n_estimators=200, random_state=2)],\n",
    "    'classifier__max_depth': [15, 25, 35],\n",
    "    'classifier__max_features': [4, 7, 10]},\n",
    "    {'classifier': [SVC()],\n",
    "    'classifier__C': [0.1, 1, 10, 100, 1000, 10000], \n",
    "    'classifier__gamma': [0.00001, 0.0001, 0.001, 0.01, 0.1, 1]}\n",
    "]\n",
    "\n",
    "\n",
    "# For this grid search between all classifiers, I decided to refit on ROC AUC\n",
    "\n",
    "clf_grid = GridSearchCV(pipe, param_grid, cv=5, scoring=make_scorer(roc_auc_score))\n",
    "clf_grid.fit(X_train, y_train)\n",
    "\n",
    "print(\"Best classifier and params: \\n{}\\n\".format(clf_grid.best_params_))\n",
    "print(\"Best cross-val score: {:.2f}\".format(clf_grid.best_score_))"
   ]
  },
  {
   "cell_type": "markdown",
   "metadata": {},
   "source": [
    "## This grid search also came up with the same conclusion: SVC is the best estimator, with the above params\n",
    "\n",
    "Now, we can generate predictions on the test set using the SVC model and inspect the metrics on the test set."
   ]
  },
  {
   "cell_type": "code",
   "execution_count": 22,
   "metadata": {},
   "outputs": [
    {
     "name": "stdout",
     "output_type": "stream",
     "text": [
      "Test set roc-auc for SVC: 0.81\n",
      "Test set accuracy score for SVC: 0.76\n",
      "Metrics for SVC: \n",
      "               precision    recall  f1-score   support\n",
      "\n",
      "           0       0.68      0.68      0.68       177\n",
      "           1       0.81      0.81      0.81       293\n",
      "\n",
      "    accuracy                           0.76       470\n",
      "   macro avg       0.74      0.74      0.74       470\n",
      "weighted avg       0.76      0.76      0.76       470\n",
      " \n",
      " Confusion Matrix:\n",
      " [[120  57]\n",
      " [ 56 237]]\n"
     ]
    }
   ],
   "source": [
    "from sklearn.metrics import roc_auc_score, accuracy_score, confusion_matrix, classification_report\n",
    "\n",
    "print(\"Test set roc-auc for SVC: {:.2f}\".format(roc_auc_score(y_test, clf_grid.decision_function(X_test))))\n",
    "print(\"Test set accuracy score for SVC: {:.2f}\".format(accuracy_score(y_test, clf_grid.predict(X_test))))\n",
    "print(\"Metrics for SVC: \\n\", classification_report(y_test, svc_pipe.predict(X_test)), \"\\n Confusion Matrix:\\n\", confusion_matrix(y_test, svc_pipe.predict(X_test)))\n"
   ]
  },
  {
   "cell_type": "markdown",
   "metadata": {},
   "source": [
    "One aspect of looking at these evaluation metrics is that the model uses the default thresholds for the decision function, which is 0 (positive values are classified in the positive class). \n",
    "\n",
    "The model with the best ROC AUC may still not perform well if the threshold is in a suboptimal place. \n",
    "\n",
    "Because this model is still not getting an impressively high performance, I will take a look at the ROC curve to see if the threshold of the decision function is in the optimal place (i.e. high TPR and high FPR) \n",
    "\n",
    "## Below, we plot the false positive rate by the true positive rate for every threshold value in the decision curve"
   ]
  },
  {
   "cell_type": "code",
   "execution_count": 35,
   "metadata": {},
   "outputs": [
    {
     "data": {
      "image/png": "[encoded data removed]",
      "text/plain": [
       "<Figure size 432x288 with 1 Axes>"
      ]
     },
     "metadata": {
      "needs_background": "light"
     },
     "output_type": "display_data"
    }
   ],
   "source": [
    "from sklearn.metrics import roc_curve\n",
    "\n",
    "# Extract false positive rate and true positive rate\n",
    "fpr_svc, tpr_svc, thresholds_svc = roc_curve(y_test, svc_pipe.decision_function(X_test))\n",
    "\n",
    "# Extract the threshold by getting the value in the decision function that is closest to 0 (default is 0)\n",
    "thresh_svc = np.argmin(np.abs(thresholds_svc))\n",
    "\n",
    "def plot_roc():\n",
    "    # Plot FPR and TPR\n",
    "    plt.plot(fpr_svc, tpr_svc, label=\"ROC Curve\")\n",
    "    plt.ylabel('FPR (recall)')\n",
    "    plt.xlabel('TPR')\n",
    "\n",
    "    # Plot threshold\n",
    "    plt.plot(fpr_svc[thresh_svc], tpr_svc[thresh_svc], 'o', markersize = 10, label = \"threshold zero svc\")\n",
    "    plt.legend(loc=4)\n",
    "    plt.title(\"ROC Curve SVC\")\n",
    "    plt.show()"
   ]
  },
  {
   "cell_type": "markdown",
   "metadata": {},
   "source": [
    "## Looks like the default threshold for the decision function is in a pretty good spot, so this is probably the optimal model\n",
    "\n",
    "Although the SVC was the highest performing model, I wanted to extract feature importances from the Random Forest model in order to get an idea of which features were most predictive in that context.\n",
    "\n",
    "## Below, we visualize the feature importances from the Random Forest model"
   ]
  },
  {
   "cell_type": "code",
   "execution_count": 38,
   "metadata": {},
   "outputs": [
    {
     "data": {
      "image/png": "[encoded data removed]",
      "text/plain": [
       "<Figure size 720x576 with 1 Axes>"
      ]
     },
     "metadata": {
      "needs_background": "light"
     },
     "output_type": "display_data"
    }
   ],
   "source": [
    "# Isolate the rf model from the pipeline \n",
    "rf = rf_pipe.named_steps['rf']\n",
    "\n",
    "# These are the column names from the numpy array producted from the column transformer\n",
    "ct_index = [\n",
    "    'Gender_Female', 'Gender_Male', 'Education_Doctorate', \n",
    "    'Eduction_age16', 'Education_age17', 'Education_age18', \n",
    "    'Education_before16', 'Education_Masters', 'Education_Professional_Diploma/Cert', \n",
    "    'Education_SomeCollege', 'Education_UniDegree', 'Country_Australia', \n",
    "    'Country_Canada', 'Country_NewZealand', 'Country_Other', 'Country_Ireland', \n",
    "    'Country_UK', 'Country_USA', 'Ethnicity_Asian', 'Ethnicity_Black', 'Ethnicity_Mixed_BlackAsian',\n",
    "    'Ethnicity_Mixed_BlackWhite', 'Ethnicity_Mixed_WhiteAsian', 'Ethnicity_Other', \n",
    "    'Ethnicity_White', 'Nscore', 'Escore', 'Oscore', 'Ascore', 'Cscore', 'ImpulsiveScore', 'SS',\n",
    "    'Lower_Age', 'Upper_Age']\n",
    "\n",
    "# Create a data frame of feature importances for each feature in the transformed dataset\n",
    "feature_importances = pd.DataFrame(rf.feature_importances_, index=ct_index, columns=['importance']).sort_values('importance', ascending=False)\n",
    "\n",
    "# Plot feature importnaces \n",
    "def plot_rf_feature_importance():\n",
    "    \"\"\"\n",
    "    A function to plot feature importances as a horizontal barplot\n",
    "    \"\"\"\n",
    "    plt.figure(figsize=(10,8))\n",
    "    n_features = len(ct_index)\n",
    "    plt.barh(np.arange(n_features), rf.feature_importances_, align='center')\n",
    "    plt.yticks(np.arange(len(ct_index)), ct_index, size= 10)\n",
    "    plt.ylabel(\"Feature\")\n",
    "    plt.xlabel(\"Feature Importance\")\n",
    "    plt.title(\"Feature Importances per Random Forest Classifier\")\n",
    "    plt.show()\n",
    "\n",
    "plot_rf_feature_importance()"
   ]
  },
  {
   "cell_type": "markdown",
   "metadata": {},
   "source": [
    "It's interesting that all of the most important features are the personality measures and not the demographic measures. I think it's interesting that this connects these abstract measures to a concrete behavior."
   ]
  },
  {
   "cell_type": "code",
   "execution_count": null,
   "metadata": {},
   "outputs": [],
   "source": []
  }
 ],
 "metadata": {
  "kernelspec": {
   "display_name": "Python 3",
   "language": "python",
   "name": "python3"
  },
  "language_info": {
   "codemirror_mode": {
    "name": "ipython",
    "version": 3
   },
   "file_extension": ".py",
   "mimetype": "text/x-python",
   "name": "python",
   "nbconvert_exporter": "python",
   "pygments_lexer": "ipython3",
   "version": "3.7.0"
  }
 },
 "nbformat": 4,
 "nbformat_minor": 2
}
